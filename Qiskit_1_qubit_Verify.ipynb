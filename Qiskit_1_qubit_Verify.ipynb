{
  "nbformat": 4,
  "nbformat_minor": 0,
  "metadata": {
    "colab": {
      "provenance": []
    },
    "kernelspec": {
      "name": "python3",
      "display_name": "Python 3"
    },
    "language_info": {
      "name": "python"
    }
  },
  "cells": [
    {
      "cell_type": "code",
      "source": [
        "!pip install qiskit qiskit-aer --upgrade"
      ],
      "metadata": {
        "id": "Mx6284lurNt1",
        "colab": {
          "base_uri": "https://localhost:8080/"
        },
        "outputId": "ad770c31-71ef-4523-db73-eb094f3430af"
      },
      "execution_count": 1,
      "outputs": [
        {
          "output_type": "stream",
          "name": "stdout",
          "text": [
            "Collecting qiskit\n",
            "  Downloading qiskit-2.2.1-cp39-abi3-manylinux2014_x86_64.manylinux_2_17_x86_64.whl.metadata (12 kB)\n",
            "Collecting qiskit-aer\n",
            "  Downloading qiskit_aer-0.17.2-cp312-cp312-manylinux_2_17_x86_64.manylinux2014_x86_64.whl.metadata (8.3 kB)\n",
            "Collecting rustworkx>=0.15.0 (from qiskit)\n",
            "  Downloading rustworkx-0.17.1-cp39-abi3-manylinux_2_17_x86_64.manylinux2014_x86_64.whl.metadata (10 kB)\n",
            "Requirement already satisfied: numpy<3,>=1.17 in /usr/local/lib/python3.12/dist-packages (from qiskit) (2.0.2)\n",
            "Requirement already satisfied: scipy>=1.5 in /usr/local/lib/python3.12/dist-packages (from qiskit) (1.16.2)\n",
            "Requirement already satisfied: dill>=0.3 in /usr/local/lib/python3.12/dist-packages (from qiskit) (0.3.8)\n",
            "Collecting stevedore>=3.0.0 (from qiskit)\n",
            "  Downloading stevedore-5.5.0-py3-none-any.whl.metadata (2.2 kB)\n",
            "Requirement already satisfied: typing-extensions in /usr/local/lib/python3.12/dist-packages (from qiskit) (4.15.0)\n",
            "Requirement already satisfied: psutil>=5 in /usr/local/lib/python3.12/dist-packages (from qiskit-aer) (5.9.5)\n",
            "Requirement already satisfied: python-dateutil>=2.8.0 in /usr/local/lib/python3.12/dist-packages (from qiskit-aer) (2.9.0.post0)\n",
            "Requirement already satisfied: six>=1.5 in /usr/local/lib/python3.12/dist-packages (from python-dateutil>=2.8.0->qiskit-aer) (1.17.0)\n",
            "Downloading qiskit-2.2.1-cp39-abi3-manylinux2014_x86_64.manylinux_2_17_x86_64.whl (8.0 MB)\n",
            "\u001b[2K   \u001b[90m━━━━━━━━━━━━━━━━━━━━━━━━━━━━━━━━━━━━━━━━\u001b[0m \u001b[32m8.0/8.0 MB\u001b[0m \u001b[31m55.8 MB/s\u001b[0m eta \u001b[36m0:00:00\u001b[0m\n",
            "\u001b[?25hDownloading qiskit_aer-0.17.2-cp312-cp312-manylinux_2_17_x86_64.manylinux2014_x86_64.whl (12.4 MB)\n",
            "\u001b[2K   \u001b[90m━━━━━━━━━━━━━━━━━━━━━━━━━━━━━━━━━━━━━━━━\u001b[0m \u001b[32m12.4/12.4 MB\u001b[0m \u001b[31m102.7 MB/s\u001b[0m eta \u001b[36m0:00:00\u001b[0m\n",
            "\u001b[?25hDownloading rustworkx-0.17.1-cp39-abi3-manylinux_2_17_x86_64.manylinux2014_x86_64.whl (2.2 MB)\n",
            "\u001b[2K   \u001b[90m━━━━━━━━━━━━━━━━━━━━━━━━━━━━━━━━━━━━━━━━\u001b[0m \u001b[32m2.2/2.2 MB\u001b[0m \u001b[31m76.1 MB/s\u001b[0m eta \u001b[36m0:00:00\u001b[0m\n",
            "\u001b[?25hDownloading stevedore-5.5.0-py3-none-any.whl (49 kB)\n",
            "\u001b[2K   \u001b[90m━━━━━━━━━━━━━━━━━━━━━━━━━━━━━━━━━━━━━━━━\u001b[0m \u001b[32m49.5/49.5 kB\u001b[0m \u001b[31m3.1 MB/s\u001b[0m eta \u001b[36m0:00:00\u001b[0m\n",
            "\u001b[?25hInstalling collected packages: stevedore, rustworkx, qiskit, qiskit-aer\n",
            "Successfully installed qiskit-2.2.1 qiskit-aer-0.17.2 rustworkx-0.17.1 stevedore-5.5.0\n"
          ]
        }
      ]
    },
    {
      "cell_type": "code",
      "source": [
        "from qiskit import QuantumCircuit\n",
        "from qiskit_aer import AerSimulator"
      ],
      "metadata": {
        "id": "gI17i0yhrQgz"
      },
      "execution_count": 2,
      "outputs": []
    },
    {
      "cell_type": "code",
      "execution_count": 3,
      "metadata": {
        "id": "VPOwLacGrCdU",
        "colab": {
          "base_uri": "https://localhost:8080/"
        },
        "outputId": "5bcfd52e-c69d-4eec-ce6e-69d117bc8203"
      },
      "outputs": [
        {
          "output_type": "stream",
          "name": "stdout",
          "text": [
            "Qiskit AerSimulator test (Qiskit 2.x)\n",
            "Circuit:\n",
            "        ┌───┐ ░ ┌─┐\n",
            "     q: ┤ H ├─░─┤M├\n",
            "        └───┘ ░ └╥┘\n",
            "   c: 1/═════════╬═\n",
            "                 ║ \n",
            "meas: 1/═════════╩═\n",
            "                 0 \n",
            "Counts: {'1 0': 505, '0 0': 519}\n"
          ]
        }
      ],
      "source": [
        "# Task 1: Single Qubit Superposition (H gate)\n",
        "from qiskit import QuantumCircuit, transpile\n",
        "from qiskit_aer import AerSimulator\n",
        "\n",
        "print(\"Qiskit AerSimulator test (Qiskit 2.x)\")\n",
        "\n",
        "qc = QuantumCircuit(1, 1)\n",
        "qc.h(0)\n",
        "qc.measure_all()\n",
        "\n",
        "print(\"Circuit:\")\n",
        "print(qc.draw())\n",
        "\n",
        "sim = AerSimulator()\n",
        "tqc = transpile(qc, sim)\n",
        "job = sim.run(tqc, shots=1024)\n",
        "result = job.result()\n",
        "counts = result.get_counts()\n",
        "print(\"Counts:\", counts)\n"
      ]
    },
    {
      "cell_type": "code",
      "source": [
        "# Task 2: Vary shots and observe distribution\n",
        "shots_list = [10, 1000, 10000]\n",
        "\n",
        "for shots in shots_list:\n",
        "    qc = QuantumCircuit(1, 1)\n",
        "    qc.h(0)\n",
        "    qc.measure_all()\n",
        "\n",
        "    tqc = transpile(qc, sim)\n",
        "    job = sim.run(tqc, shots=shots)\n",
        "    result = job.result()\n",
        "    counts = result.get_counts()\n",
        "    print(f\"\\nShots: {shots}, Counts: {counts}\")\n"
      ],
      "metadata": {
        "colab": {
          "base_uri": "https://localhost:8080/"
        },
        "id": "fycBBAD7lgCY",
        "outputId": "092bec5f-0b45-4a91-eea9-f3549b92da30"
      },
      "execution_count": 4,
      "outputs": [
        {
          "output_type": "stream",
          "name": "stdout",
          "text": [
            "\n",
            "Shots: 10, Counts: {'0 0': 6, '1 0': 4}\n",
            "\n",
            "Shots: 1000, Counts: {'0 0': 499, '1 0': 501}\n",
            "\n",
            "Shots: 10000, Counts: {'0 0': 4948, '1 0': 5052}\n"
          ]
        }
      ]
    },
    {
      "cell_type": "code",
      "source": [
        "# Task 3: Two-qubit superposition\n",
        "qc = QuantumCircuit(2, 2)\n",
        "qc.h(0)\n",
        "qc.h(1)\n",
        "qc.measure_all()\n",
        "\n",
        "print(\"Two-Qubit Superposition Circuit:\")\n",
        "print(qc.draw())\n",
        "\n",
        "tqc = transpile(qc, sim)\n",
        "job = sim.run(tqc, shots=1024)\n",
        "result = job.result()\n",
        "counts = result.get_counts()\n",
        "print(\"Counts (expect ~25% for each of 00, 01, 10, 11):\", counts)\n"
      ],
      "metadata": {
        "colab": {
          "base_uri": "https://localhost:8080/"
        },
        "id": "UkIH-4lflkW5",
        "outputId": "49aeaa28-e9af-4d56-d803-17e445d883d4"
      },
      "execution_count": 5,
      "outputs": [
        {
          "output_type": "stream",
          "name": "stdout",
          "text": [
            "Two-Qubit Superposition Circuit:\n",
            "        ┌───┐ ░ ┌─┐   \n",
            "   q_0: ┤ H ├─░─┤M├───\n",
            "        ├───┤ ░ └╥┘┌─┐\n",
            "   q_1: ┤ H ├─░──╫─┤M├\n",
            "        └───┘ ░  ║ └╥┘\n",
            "   c: 2/═════════╬══╬═\n",
            "                 ║  ║ \n",
            "meas: 2/═════════╩══╩═\n",
            "                 0  1 \n",
            "Counts (expect ~25% for each of 00, 01, 10, 11): {'10 00': 254, '11 00': 280, '01 00': 248, '00 00': 242}\n"
          ]
        }
      ]
    },
    {
      "cell_type": "code",
      "source": [
        "# Task 4: Entangled State (Bell State)\n",
        "qc = QuantumCircuit(2, 2)\n",
        "qc.h(0)\n",
        "qc.cx(0, 1)\n",
        "qc.measure_all()\n",
        "\n",
        "print(\"Bell State Circuit:\")\n",
        "print(qc.draw())\n",
        "\n",
        "tqc = transpile(qc, sim)\n",
        "job = sim.run(tqc, shots=1024)\n",
        "result = job.result()\n",
        "counts = result.get_counts()\n",
        "print(\"Counts (expect mostly 00 and 11):\", counts)\n"
      ],
      "metadata": {
        "colab": {
          "base_uri": "https://localhost:8080/"
        },
        "id": "U7biH4kPln9z",
        "outputId": "0c066c73-ea6c-4574-dcc4-41eb377c2fb8"
      },
      "execution_count": 6,
      "outputs": [
        {
          "output_type": "stream",
          "name": "stdout",
          "text": [
            "Bell State Circuit:\n",
            "        ┌───┐      ░ ┌─┐   \n",
            "   q_0: ┤ H ├──■───░─┤M├───\n",
            "        └───┘┌─┴─┐ ░ └╥┘┌─┐\n",
            "   q_1: ─────┤ X ├─░──╫─┤M├\n",
            "             └───┘ ░  ║ └╥┘\n",
            "   c: 2/══════════════╬══╬═\n",
            "                      ║  ║ \n",
            "meas: 2/══════════════╩══╩═\n",
            "                      0  1 \n",
            "Counts (expect mostly 00 and 11): {'00 00': 506, '11 00': 518}\n"
          ]
        }
      ]
    },
    {
      "cell_type": "code",
      "source": [
        "# Task 5: Deterministic X gate\n",
        "qc = QuantumCircuit(1, 1)\n",
        "qc.x(0)\n",
        "qc.measure_all()\n",
        "\n",
        "print(\"X Gate Circuit:\")\n",
        "print(qc.draw())\n",
        "\n",
        "tqc = transpile(qc, sim)\n",
        "job = sim.run(tqc, shots=1024)\n",
        "result = job.result()\n",
        "counts = result.get_counts()\n",
        "print(\"Counts (expect all 1s):\", counts)\n"
      ],
      "metadata": {
        "colab": {
          "base_uri": "https://localhost:8080/"
        },
        "id": "v6zLjZIQlqkb",
        "outputId": "8dda30cc-f53a-4f12-c69f-fb47cb8cbb02"
      },
      "execution_count": 7,
      "outputs": [
        {
          "output_type": "stream",
          "name": "stdout",
          "text": [
            "X Gate Circuit:\n",
            "        ┌───┐ ░ ┌─┐\n",
            "     q: ┤ X ├─░─┤M├\n",
            "        └───┘ ░ └╥┘\n",
            "   c: 1/═════════╬═\n",
            "                 ║ \n",
            "meas: 1/═════════╩═\n",
            "                 0 \n",
            "Counts (expect all 1s): {'1 0': 1024}\n"
          ]
        }
      ]
    }
  ]
}